{
 "cells": [
  {
   "cell_type": "code",
   "execution_count": 1,
   "metadata": {},
   "outputs": [
    {
     "name": "stderr",
     "output_type": "stream",
     "text": [
      "c:\\Users\\Ruthikeswar.T\\Desktop\\VMS\\smolVLM\\smolVLM\\Lib\\site-packages\\tqdm\\auto.py:21: TqdmWarning: IProgress not found. Please update jupyter and ipywidgets. See https://ipywidgets.readthedocs.io/en/stable/user_install.html\n",
      "  from .autonotebook import tqdm as notebook_tqdm\n"
     ]
    }
   ],
   "source": [
    "import torch\n",
    "from PIL import Image\n",
    "from transformers import AutoProcessor, AutoModelForVision2Seq"
   ]
  },
  {
   "cell_type": "code",
   "execution_count": 3,
   "metadata": {},
   "outputs": [
    {
     "name": "stderr",
     "output_type": "stream",
     "text": [
      "c:\\Users\\Ruthikeswar.T\\Desktop\\VMS\\smolVLM\\smolVLM\\Lib\\site-packages\\huggingface_hub\\file_download.py:143: UserWarning: `huggingface_hub` cache-system uses symlinks by default to efficiently store duplicated files but your machine does not support them in C:\\Users\\Ruthikeswar.T\\.cache\\huggingface\\hub\\models--HuggingFaceTB--SmolVLM-500M-Instruct. Caching files will still work but in a degraded version that might require more space on your disk. This warning can be disabled by setting the `HF_HUB_DISABLE_SYMLINKS_WARNING` environment variable. For more details, see https://huggingface.co/docs/huggingface_hub/how-to-cache#limitations.\n",
      "To support symlinks on Windows, you either need to activate Developer Mode or to run Python as an administrator. In order to activate developer mode, see this article: https://docs.microsoft.com/en-us/windows/apps/get-started/enable-your-device-for-development\n",
      "  warnings.warn(message)\n",
      "Xet Storage is enabled for this repo, but the 'hf_xet' package is not installed. Falling back to regular HTTP download. For better performance, install the package with: `pip install huggingface_hub[hf_xet]` or `pip install hf_xet`\n"
     ]
    }
   ],
   "source": [
    "\n",
    "processor = AutoProcessor.from_pretrained(\"HuggingFaceTB/SmolVLM-500M-Instruct\")\n",
    "model = AutoModelForVision2Seq.from_pretrained(\n",
    "    \"HuggingFaceTB/SmolVLM-500M-Instruct\",\n",
    "    torch_dtype=torch.bfloat16\n",
    ").to(\"cpu\")"
   ]
  },
  {
   "cell_type": "code",
   "execution_count": 9,
   "metadata": {},
   "outputs": [
    {
     "name": "stdout",
     "output_type": "stream",
     "text": [
      "User:\n",
      "\n",
      "what are the characters present in the image ?.\n",
      "Assistant: The characters present in the image are \"MA3NYF1B1SJE395462\".\n"
     ]
    }
   ],
   "source": [
    "image = Image.open(\"C:\\\\Users\\\\Ruthikeswar.T\\\\Desktop\\\\VMS\\\\smolVLM\\\\data\\\\images\\\\vin.png\")\n",
    "messages = [{\n",
    "    \"role\":\"user\",\n",
    "    \"content\":[{\n",
    "        \"type\":\"image\"\n",
    "    },\n",
    "               {\n",
    "                   \"type\":\"text\",\n",
    "                   \"text\":\"what are the characters present in the image ?.\"\n",
    "               }\n",
    "    ]\n",
    "},]\n",
    "\n",
    "prompt = processor.apply_chat_template(messages, add_generation_prompt=True)\n",
    "inputs = processor(text=prompt, images=[image], return_tensors=\"pt\").to(\"cpu\")\n",
    "\n",
    "generated_ids = model.generate(**inputs, max_new_tokens=1500)\n",
    "generated_texts = processor.batch_decode(generated_ids, skip_special_tokens=True)\n",
    "print(generated_texts[0])\n"
   ]
  },
  {
   "cell_type": "code",
   "execution_count": 10,
   "metadata": {},
   "outputs": [
    {
     "name": "stdout",
     "output_type": "stream",
     "text": [
      "User:\n",
      "\n",
      "what are the characters present in the image ?.\n",
      "Assistant: The characters present in the image are \"CMA NYFB1SJE395462\".\n"
     ]
    }
   ],
   "source": [
    "image = Image.open(\"C:\\\\Users\\\\Ruthikeswar.T\\\\Desktop\\\\VMS\\\\smolVLM\\\\data\\\\images\\\\processed.png\")\n",
    "messages = [{\n",
    "    \"role\":\"user\",\n",
    "    \"content\":[{\n",
    "        \"type\":\"image\"\n",
    "    },\n",
    "               {\n",
    "                   \"type\":\"text\",\n",
    "                   \"text\":\"what are the characters present in the image ?.\"\n",
    "               }\n",
    "    ]\n",
    "},]\n",
    "\n",
    "prompt = processor.apply_chat_template(messages, add_generation_prompt=True)\n",
    "inputs = processor(text=prompt, images=[image], return_tensors=\"pt\").to(\"cpu\")\n",
    "\n",
    "generated_ids = model.generate(**inputs, max_new_tokens=1500)\n",
    "generated_texts = processor.batch_decode(generated_ids, skip_special_tokens=True)\n",
    "print(generated_texts[0])\n"
   ]
  },
  {
   "cell_type": "code",
   "execution_count": 11,
   "metadata": {},
   "outputs": [
    {
     "name": "stdout",
     "output_type": "stream",
     "text": [
      "User:\n",
      "\n",
      "\n",
      "\n",
      "what are the characters present in the image ?.\n",
      "Assistant: The characters present in the image are \"SMA 3NYFBAS JB350628X\".\n"
     ]
    }
   ],
   "source": [
    "image = Image.open(\"C:\\\\Users\\\\Ruthikeswar.T\\\\Desktop\\\\VMS\\\\smolVLM\\\\data\\\\images\\\\unprocessed.png\")\n",
    "messages = [{\n",
    "    \"role\":\"user\",\n",
    "    \"content\":[{\n",
    "        \"type\":\"image\"\n",
    "    },\n",
    "               {\n",
    "                   \"type\":\"text\",\n",
    "                   \"text\":\"what are the characters present in the image ?.\"\n",
    "               }\n",
    "    ]\n",
    "},]\n",
    "\n",
    "prompt = processor.apply_chat_template(messages, add_generation_prompt=True)\n",
    "inputs = processor(text=prompt, images=[image], return_tensors=\"pt\").to(\"cpu\")\n",
    "\n",
    "generated_ids = model.generate(**inputs, max_new_tokens=1500)\n",
    "generated_texts = processor.batch_decode(generated_ids, skip_special_tokens=True)\n",
    "print(generated_texts[0])\n"
   ]
  },
  {
   "cell_type": "code",
   "execution_count": null,
   "metadata": {},
   "outputs": [],
   "source": []
  }
 ],
 "metadata": {
  "kernelspec": {
   "display_name": "smolVLM",
   "language": "python",
   "name": "python3"
  },
  "language_info": {
   "codemirror_mode": {
    "name": "ipython",
    "version": 3
   },
   "file_extension": ".py",
   "mimetype": "text/x-python",
   "name": "python",
   "nbconvert_exporter": "python",
   "pygments_lexer": "ipython3",
   "version": "3.12.6"
  }
 },
 "nbformat": 4,
 "nbformat_minor": 2
}
