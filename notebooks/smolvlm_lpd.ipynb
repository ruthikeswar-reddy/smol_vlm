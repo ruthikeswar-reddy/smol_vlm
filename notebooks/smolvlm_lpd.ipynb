{
 "cells": [
  {
   "cell_type": "code",
   "execution_count": 1,
   "metadata": {},
   "outputs": [
    {
     "name": "stderr",
     "output_type": "stream",
     "text": [
      "c:\\Users\\Ruthikeswar.T\\Desktop\\VMS\\smolVLM\\smolVLM\\Lib\\site-packages\\tqdm\\auto.py:21: TqdmWarning: IProgress not found. Please update jupyter and ipywidgets. See https://ipywidgets.readthedocs.io/en/stable/user_install.html\n",
      "  from .autonotebook import tqdm as notebook_tqdm\n"
     ]
    }
   ],
   "source": [
    "import torch\n",
    "from PIL import Image\n",
    "from transformers import AutoProcessor, AutoModelForVision2Seq"
   ]
  },
  {
   "cell_type": "code",
   "execution_count": 2,
   "metadata": {},
   "outputs": [],
   "source": [
    "\n",
    "processor = AutoProcessor.from_pretrained(\"HuggingFaceTB/SmolVLM-500M-Instruct\")\n",
    "model = AutoModelForVision2Seq.from_pretrained(\n",
    "    \"HuggingFaceTB/SmolVLM-500M-Instruct\",\n",
    "    torch_dtype=torch.bfloat16\n",
    ").to(\"cpu\")"
   ]
  },
  {
   "cell_type": "code",
   "execution_count": 4,
   "metadata": {},
   "outputs": [
    {
     "name": "stdout",
     "output_type": "stream",
     "text": [
      "User:\n",
      "\n",
      "what are the characters present in the license plate image ?.\n",
      "Assistant: TG 30 T 1208.\n"
     ]
    }
   ],
   "source": [
    "image = Image.open(\"C:\\\\Users\\\\Ruthikeswar.T\\\\Desktop\\\\VMS\\\\smolVLM\\\\data\\\\license_plate_images\\\\processed\\\\1.jpg\")\n",
    "messages = [{\n",
    "    \"role\":\"user\",\n",
    "    \"content\":[{\n",
    "        \"type\":\"image\"\n",
    "    },\n",
    "               {\n",
    "                   \"type\":\"text\",\n",
    "                   \"text\":\"what are the characters present in the license plate image ?.\"\n",
    "               }\n",
    "    ]\n",
    "},]\n",
    "\n",
    "prompt = processor.apply_chat_template(messages, add_generation_prompt=True)\n",
    "inputs = processor(text=prompt, images=[image], return_tensors=\"pt\").to(\"cpu\")\n",
    "\n",
    "generated_ids = model.generate(**inputs, max_new_tokens=1500)\n",
    "generated_texts = processor.batch_decode(generated_ids, skip_special_tokens=True)\n",
    "print(generated_texts[0])\n"
   ]
  },
  {
   "cell_type": "code",
   "execution_count": 5,
   "metadata": {},
   "outputs": [
    {
     "name": "stdout",
     "output_type": "stream",
     "text": [
      "User:\n",
      "\n",
      "\n",
      "what are the characters present in the license plate image ?.\n",
      "Assistant: The license plate image contains the characters \"TO4K081\".\n"
     ]
    }
   ],
   "source": [
    "image = Image.open(\"C:\\\\Users\\\\Ruthikeswar.T\\\\Desktop\\\\VMS\\\\smolVLM\\\\data\\\\license_plate_images\\\\processed\\\\67.jpg\")\n",
    "messages = [{\n",
    "    \"role\":\"user\",\n",
    "    \"content\":[{\n",
    "        \"type\":\"image\"\n",
    "    },\n",
    "               {\n",
    "                   \"type\":\"text\",\n",
    "                   \"text\":\"what are the characters present in the license plate image ?.\"\n",
    "               }\n",
    "    ]\n",
    "},]\n",
    "\n",
    "prompt = processor.apply_chat_template(messages, add_generation_prompt=True)\n",
    "inputs = processor(text=prompt, images=[image], return_tensors=\"pt\").to(\"cpu\")\n",
    "\n",
    "generated_ids = model.generate(**inputs, max_new_tokens=1500)\n",
    "generated_texts = processor.batch_decode(generated_ids, skip_special_tokens=True)\n",
    "print(generated_texts[0])\n"
   ]
  },
  {
   "cell_type": "code",
   "execution_count": 6,
   "metadata": {},
   "outputs": [
    {
     "name": "stdout",
     "output_type": "stream",
     "text": [
      "User:\n",
      "\n",
      "what are the characters present in the license plate image ?.\n",
      "Assistant: 11B 108732A.\n"
     ]
    }
   ],
   "source": [
    "image = Image.open(\"C:\\\\Users\\\\Ruthikeswar.T\\\\Desktop\\\\VMS\\\\smolVLM\\\\data\\\\license_plate_images\\\\processed\\\\71.jpg\")\n",
    "messages = [{\n",
    "    \"role\":\"user\",\n",
    "    \"content\":[{\n",
    "        \"type\":\"image\"\n",
    "    },\n",
    "               {\n",
    "                   \"type\":\"text\",\n",
    "                   \"text\":\"what are the characters present in the license plate image ?.\"\n",
    "               }\n",
    "    ]\n",
    "},]\n",
    "\n",
    "prompt = processor.apply_chat_template(messages, add_generation_prompt=True)\n",
    "inputs = processor(text=prompt, images=[image], return_tensors=\"pt\").to(\"cpu\")\n",
    "\n",
    "generated_ids = model.generate(**inputs, max_new_tokens=1500)\n",
    "generated_texts = processor.batch_decode(generated_ids, skip_special_tokens=True)\n",
    "print(generated_texts[0])\n"
   ]
  },
  {
   "cell_type": "code",
   "execution_count": 7,
   "metadata": {},
   "outputs": [
    {
     "name": "stdout",
     "output_type": "stream",
     "text": [
      "User:\n",
      "\n",
      "\n",
      "\n",
      "what are the characters present on the license plate present in theimage ?.\n",
      "Assistant: The characters present on the license plate are \"XA03NL7071\".\n"
     ]
    }
   ],
   "source": [
    "image = Image.open(\"C:\\\\Users\\\\Ruthikeswar.T\\\\Desktop\\\\VMS\\\\smolVLM\\\\data\\\\license_plate_images\\\\unprocessed\\\\1735958472122.jpg\")\n",
    "messages = [{\n",
    "    \"role\":\"user\",\n",
    "    \"content\":[{\n",
    "        \"type\":\"image\"\n",
    "    },\n",
    "               {\n",
    "                   \"type\":\"text\",\n",
    "                   \"text\":\"what are the characters present on the license plate present in theimage ?.\"\n",
    "               }\n",
    "    ]\n",
    "},]\n",
    "\n",
    "prompt = processor.apply_chat_template(messages, add_generation_prompt=True)\n",
    "inputs = processor(text=prompt, images=[image], return_tensors=\"pt\").to(\"cpu\")\n",
    "\n",
    "generated_ids = model.generate(**inputs, max_new_tokens=1500)\n",
    "generated_texts = processor.batch_decode(generated_ids, skip_special_tokens=True)\n",
    "print(generated_texts[0])\n"
   ]
  },
  {
   "cell_type": "code",
   "execution_count": 8,
   "metadata": {},
   "outputs": [
    {
     "name": "stdout",
     "output_type": "stream",
     "text": [
      "User:\n",
      "\n",
      "\n",
      "\n",
      "what is the color of the license plate present in theimage ?.\n",
      "Assistant: The license plate is white in color.\n"
     ]
    }
   ],
   "source": [
    "image = Image.open(\"C:\\\\Users\\\\Ruthikeswar.T\\\\Desktop\\\\VMS\\\\smolVLM\\\\data\\\\license_plate_images\\\\unprocessed\\\\1735958472122.jpg\")\n",
    "messages = [{\n",
    "    \"role\":\"user\",\n",
    "    \"content\":[{\n",
    "        \"type\":\"image\"\n",
    "    },\n",
    "               {\n",
    "                   \"type\":\"text\",\n",
    "                   \"text\":\"what is the color of the license plate present in theimage ?.\"\n",
    "               }\n",
    "    ]\n",
    "},]\n",
    "\n",
    "prompt = processor.apply_chat_template(messages, add_generation_prompt=True)\n",
    "inputs = processor(text=prompt, images=[image], return_tensors=\"pt\").to(\"cpu\")\n",
    "\n",
    "generated_ids = model.generate(**inputs, max_new_tokens=1500)\n",
    "generated_texts = processor.batch_decode(generated_ids, skip_special_tokens=True)\n",
    "print(generated_texts[0])\n"
   ]
  },
  {
   "cell_type": "code",
   "execution_count": 9,
   "metadata": {},
   "outputs": [
    {
     "name": "stdout",
     "output_type": "stream",
     "text": [
      "User:\n",
      "\n",
      "what is the color of the license plate present in theimage ?.\n",
      "Assistant: The license plate is black in color.\n"
     ]
    }
   ],
   "source": [
    "image = Image.open(\"C:\\\\Users\\\\Ruthikeswar.T\\\\Desktop\\\\VMS\\\\smolVLM\\\\data\\\\license_plate_images\\\\processed\\\\71.jpg\")\n",
    "messages = [{\n",
    "    \"role\":\"user\",\n",
    "    \"content\":[{\n",
    "        \"type\":\"image\"\n",
    "    },\n",
    "               {\n",
    "                   \"type\":\"text\",\n",
    "                   \"text\":\"what is the color of the license plate present in theimage ?.\"\n",
    "               }\n",
    "    ]\n",
    "},]\n",
    "\n",
    "prompt = processor.apply_chat_template(messages, add_generation_prompt=True)\n",
    "inputs = processor(text=prompt, images=[image], return_tensors=\"pt\").to(\"cpu\")\n",
    "\n",
    "generated_ids = model.generate(**inputs, max_new_tokens=1500)\n",
    "generated_texts = processor.batch_decode(generated_ids, skip_special_tokens=True)\n",
    "print(generated_texts[0])\n"
   ]
  },
  {
   "cell_type": "code",
   "execution_count": 11,
   "metadata": {},
   "outputs": [
    {
     "name": "stdout",
     "output_type": "stream",
     "text": [
      "User:\n",
      "\n",
      "\n",
      "\n",
      "describe the image in detail?.\n",
      "Assistant: The image depicts a man lying on a set of two parallel railway tracks. The tracks are made of metal and are in good condition, with no visible signs of wear or damage. The man is lying on his back, with his head resting on his knees. He is wearing a white shirt and dark pants, and he has short hair. His expression is relaxed and he appears to be comfortable.\n",
      "\n",
      "The tracks are surrounded by gravel, which is composed of small stones and pebbles. The gravel is scattered around the tracks, and it appears to be a natural, undisturbed layer of soil. The gravel is light in color, and it contrasts with the darker metal of the tracks.\n",
      "\n",
      "In the background, there is a grassy area with some green vegetation, which suggests that the location is likely a park or a recreational area. The grass is well-maintained, and it appears to be a healthy, green color.\n",
      "\n",
      "The image is taken from a slightly elevated perspective, which gives a clear view of the man and the tracks. The lighting is natural, and the sun is shining brightly, creating a bright and clear image.\n",
      "\n",
      "The overall composition of the image is simple and uncluttered, with the focus on the man and the tracks. The use of natural elements like gravel and grass helps to create a sense of tranquility and peace.\n",
      "\n",
      "### Analysis and Description\n",
      "\n",
      "The image is a clear and detailed representation of a man lying on a railway track. The man's relaxed posture and the natural environment around him suggest that he is enjoying a moment of relaxation or leisure. The tracks and gravel provide a sense of scale and depth, making the man appear as a small figure in the vastness of the landscape.\n",
      "\n",
      "The natural elements in the background, such as the grass and gravel, contribute to the overall feeling of peace and tranquility. The lighting and composition of the image create a sense of calm and serenity, making the scene appear both serene and inviting.\n",
      "\n",
      "### Conclusion\n",
      "\n",
      "The image is a simple yet effective depiction of a man lying on a railway track. The natural elements surrounding the tracks, such as gravel and grass, add to the sense of peace and tranquility. The man's relaxed posture and the clear lighting create a sense of calm and relaxation, making the image both aesthetically pleasing and thought-provoking.\n"
     ]
    }
   ],
   "source": [
    "image = Image.open(\"C:\\\\Users\\\\Ruthikeswar.T\\\\Desktop\\\\VMS\\\\data\\\\lying_man.jpg\")\n",
    "messages = [{\n",
    "    \"role\":\"user\",\n",
    "    \"content\":[{\n",
    "        \"type\":\"image\"\n",
    "    },\n",
    "               {\n",
    "                   \"type\":\"text\",\n",
    "                   \"text\":\"describe the image in detail?.\"\n",
    "               }\n",
    "    ]\n",
    "},]\n",
    "\n",
    "prompt = processor.apply_chat_template(messages, add_generation_prompt=True)\n",
    "inputs = processor(text=prompt, images=[image], return_tensors=\"pt\").to(\"cpu\")\n",
    "\n",
    "generated_ids = model.generate(**inputs, max_new_tokens=1500)\n",
    "generated_texts = processor.batch_decode(generated_ids, skip_special_tokens=True)\n",
    "print(generated_texts[0])\n"
   ]
  },
  {
   "cell_type": "code",
   "execution_count": null,
   "metadata": {},
   "outputs": [],
   "source": []
  }
 ],
 "metadata": {
  "kernelspec": {
   "display_name": "smolVLM",
   "language": "python",
   "name": "python3"
  },
  "language_info": {
   "codemirror_mode": {
    "name": "ipython",
    "version": 3
   },
   "file_extension": ".py",
   "mimetype": "text/x-python",
   "name": "python",
   "nbconvert_exporter": "python",
   "pygments_lexer": "ipython3",
   "version": "3.12.6"
  }
 },
 "nbformat": 4,
 "nbformat_minor": 2
}
