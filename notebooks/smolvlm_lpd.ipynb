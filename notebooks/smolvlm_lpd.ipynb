{
 "cells": [
  {
   "cell_type": "code",
   "execution_count": 1,
   "metadata": {},
   "outputs": [
    {
     "name": "stderr",
     "output_type": "stream",
     "text": [
      "c:\\Users\\Ruthikeswar.T\\Desktop\\VMS\\smolVLM\\smolVLM\\Lib\\site-packages\\tqdm\\auto.py:21: TqdmWarning: IProgress not found. Please update jupyter and ipywidgets. See https://ipywidgets.readthedocs.io/en/stable/user_install.html\n",
      "  from .autonotebook import tqdm as notebook_tqdm\n"
     ]
    }
   ],
   "source": [
    "import torch\n",
    "from PIL import Image\n",
    "from transformers import AutoProcessor, AutoModelForVision2Seq"
   ]
  },
  {
   "cell_type": "code",
   "execution_count": 2,
   "metadata": {},
   "outputs": [],
   "source": [
    "\n",
    "processor = AutoProcessor.from_pretrained(\"HuggingFaceTB/SmolVLM-500M-Instruct\")\n",
    "model = AutoModelForVision2Seq.from_pretrained(\n",
    "    \"HuggingFaceTB/SmolVLM-500M-Instruct\",\n",
    "    torch_dtype=torch.bfloat16\n",
    ").to(\"cpu\")"
   ]
  },
  {
   "cell_type": "code",
   "execution_count": 4,
   "metadata": {},
   "outputs": [
    {
     "name": "stdout",
     "output_type": "stream",
     "text": [
      "User:\n",
      "\n",
      "what are the characters present in the license plate image ?.\n",
      "Assistant: TG 30 T 1208.\n"
     ]
    }
   ],
   "source": [
    "image = Image.open(\"C:\\\\Users\\\\Ruthikeswar.T\\\\Desktop\\\\VMS\\\\smolVLM\\\\data\\\\license_plate_images\\\\processed\\\\1.jpg\")\n",
    "messages = [{\n",
    "    \"role\":\"user\",\n",
    "    \"content\":[{\n",
    "        \"type\":\"image\"\n",
    "    },\n",
    "               {\n",
    "                   \"type\":\"text\",\n",
    "                   \"text\":\"what are the characters present in the license plate image ?.\"\n",
    "               }\n",
    "    ]\n",
    "},]\n",
    "\n",
    "prompt = processor.apply_chat_template(messages, add_generation_prompt=True)\n",
    "inputs = processor(text=prompt, images=[image], return_tensors=\"pt\").to(\"cpu\")\n",
    "\n",
    "generated_ids = model.generate(**inputs, max_new_tokens=1500)\n",
    "generated_texts = processor.batch_decode(generated_ids, skip_special_tokens=True)\n",
    "print(generated_texts[0])\n"
   ]
  },
  {
   "cell_type": "code",
   "execution_count": 5,
   "metadata": {},
   "outputs": [
    {
     "name": "stdout",
     "output_type": "stream",
     "text": [
      "User:\n",
      "\n",
      "\n",
      "what are the characters present in the license plate image ?.\n",
      "Assistant: The license plate image contains the characters \"TO4K081\".\n"
     ]
    }
   ],
   "source": [
    "image = Image.open(\"C:\\\\Users\\\\Ruthikeswar.T\\\\Desktop\\\\VMS\\\\smolVLM\\\\data\\\\license_plate_images\\\\processed\\\\67.jpg\")\n",
    "messages = [{\n",
    "    \"role\":\"user\",\n",
    "    \"content\":[{\n",
    "        \"type\":\"image\"\n",
    "    },\n",
    "               {\n",
    "                   \"type\":\"text\",\n",
    "                   \"text\":\"what are the characters present in the license plate image ?.\"\n",
    "               }\n",
    "    ]\n",
    "},]\n",
    "\n",
    "prompt = processor.apply_chat_template(messages, add_generation_prompt=True)\n",
    "inputs = processor(text=prompt, images=[image], return_tensors=\"pt\").to(\"cpu\")\n",
    "\n",
    "generated_ids = model.generate(**inputs, max_new_tokens=1500)\n",
    "generated_texts = processor.batch_decode(generated_ids, skip_special_tokens=True)\n",
    "print(generated_texts[0])\n"
   ]
  },
  {
   "cell_type": "code",
   "execution_count": 6,
   "metadata": {},
   "outputs": [
    {
     "name": "stdout",
     "output_type": "stream",
     "text": [
      "User:\n",
      "\n",
      "what are the characters present in the license plate image ?.\n",
      "Assistant: 11B 108732A.\n"
     ]
    }
   ],
   "source": [
    "image = Image.open(\"C:\\\\Users\\\\Ruthikeswar.T\\\\Desktop\\\\VMS\\\\smolVLM\\\\data\\\\license_plate_images\\\\processed\\\\71.jpg\")\n",
    "messages = [{\n",
    "    \"role\":\"user\",\n",
    "    \"content\":[{\n",
    "        \"type\":\"image\"\n",
    "    },\n",
    "               {\n",
    "                   \"type\":\"text\",\n",
    "                   \"text\":\"what are the characters present in the license plate image ?.\"\n",
    "               }\n",
    "    ]\n",
    "},]\n",
    "\n",
    "prompt = processor.apply_chat_template(messages, add_generation_prompt=True)\n",
    "inputs = processor(text=prompt, images=[image], return_tensors=\"pt\").to(\"cpu\")\n",
    "\n",
    "generated_ids = model.generate(**inputs, max_new_tokens=1500)\n",
    "generated_texts = processor.batch_decode(generated_ids, skip_special_tokens=True)\n",
    "print(generated_texts[0])\n"
   ]
  },
  {
   "cell_type": "code",
   "execution_count": 7,
   "metadata": {},
   "outputs": [
    {
     "name": "stdout",
     "output_type": "stream",
     "text": [
      "User:\n",
      "\n",
      "\n",
      "\n",
      "what are the characters present on the license plate present in theimage ?.\n",
      "Assistant: The characters present on the license plate are \"XA03NL7071\".\n"
     ]
    }
   ],
   "source": [
    "image = Image.open(\"C:\\\\Users\\\\Ruthikeswar.T\\\\Desktop\\\\VMS\\\\smolVLM\\\\data\\\\license_plate_images\\\\unprocessed\\\\1735958472122.jpg\")\n",
    "messages = [{\n",
    "    \"role\":\"user\",\n",
    "    \"content\":[{\n",
    "        \"type\":\"image\"\n",
    "    },\n",
    "               {\n",
    "                   \"type\":\"text\",\n",
    "                   \"text\":\"what are the characters present on the license plate present in theimage ?.\"\n",
    "               }\n",
    "    ]\n",
    "},]\n",
    "\n",
    "prompt = processor.apply_chat_template(messages, add_generation_prompt=True)\n",
    "inputs = processor(text=prompt, images=[image], return_tensors=\"pt\").to(\"cpu\")\n",
    "\n",
    "generated_ids = model.generate(**inputs, max_new_tokens=1500)\n",
    "generated_texts = processor.batch_decode(generated_ids, skip_special_tokens=True)\n",
    "print(generated_texts[0])\n"
   ]
  },
  {
   "cell_type": "code",
   "execution_count": null,
   "metadata": {},
   "outputs": [],
   "source": [
    "image = Image.open(\"C:\\\\Users\\\\Ruthikeswar.T\\\\Desktop\\\\VMS\\\\smolVLM\\\\data\\\\license_plate_images\\\\unprocessed\\\\1735958472122.jpg\")\n",
    "messages = [{\n",
    "    \"role\":\"user\",\n",
    "    \"content\":[{\n",
    "        \"type\":\"image\"\n",
    "    },\n",
    "               {\n",
    "                   \"type\":\"text\",\n",
    "                   \"text\":\"what is the color of the license plate present in theimage ?.\"\n",
    "               }\n",
    "    ]\n",
    "},]\n",
    "\n",
    "prompt = processor.apply_chat_template(messages, add_generation_prompt=True)\n",
    "inputs = processor(text=prompt, images=[image], return_tensors=\"pt\").to(\"cpu\")\n",
    "\n",
    "generated_ids = model.generate(**inputs, max_new_tokens=1500)\n",
    "generated_texts = processor.batch_decode(generated_ids, skip_special_tokens=True)\n",
    "print(generated_texts[0])\n"
   ]
  }
 ],
 "metadata": {
  "kernelspec": {
   "display_name": "smolVLM",
   "language": "python",
   "name": "python3"
  },
  "language_info": {
   "codemirror_mode": {
    "name": "ipython",
    "version": 3
   },
   "file_extension": ".py",
   "mimetype": "text/x-python",
   "name": "python",
   "nbconvert_exporter": "python",
   "pygments_lexer": "ipython3",
   "version": "3.12.6"
  }
 },
 "nbformat": 4,
 "nbformat_minor": 2
}
